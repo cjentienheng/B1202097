{
  "nbformat": 4,
  "nbformat_minor": 0,
  "metadata": {
    "colab": {
      "provenance": []
    },
    "kernelspec": {
      "name": "python3",
      "display_name": "Python 3"
    },
    "language_info": {
      "name": "python"
    }
  },
  "cells": [
    {
      "cell_type": "code",
      "execution_count": 1,
      "metadata": {
        "id": "Z9ex034473E3",
        "colab": {
          "base_uri": "https://localhost:8080/"
        },
        "outputId": "064749a8-34d8-4e7f-cfb7-9dcf85be135b"
      },
      "outputs": [
        {
          "output_type": "stream",
          "name": "stdout",
          "text": [
            "hello world! I am chen tien heng from taitung, it is my pleasure to participate in the classess.\n"
          ]
        }
      ],
      "source": [
        "x='hello world! I am chen tien heng from taitung, it is my pleasure to participate in the classess.'\n",
        "print(x)"
      ]
    },
    {
      "cell_type": "code",
      "source": [],
      "metadata": {
        "id": "a62zmB4z78_k"
      },
      "execution_count": null,
      "outputs": []
    }
  ]
}