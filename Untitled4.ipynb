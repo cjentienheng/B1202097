{
  "nbformat": 4,
  "nbformat_minor": 0,
  "metadata": {
    "colab": {
      "provenance": []
    },
    "kernelspec": {
      "name": "python3",
      "display_name": "Python 3"
    },
    "language_info": {
      "name": "python"
    }
  },
  "cells": [
    {
      "cell_type": "code",
      "execution_count": null,
      "metadata": {
        "id": "0Mmq56pCXB0Y",
        "colab": {
          "base_uri": "https://localhost:8080/"
        },
        "outputId": "b6ba0b62-7450-426d-cd2a-9b99b83b8c76"
      },
      "outputs": [
        {
          "output_type": "stream",
          "name": "stdout",
          "text": [
            "請輸入高度(必須要大於7以上的整數):8\n",
            "        *\n",
            "       ***\n",
            "      *****\n",
            "     *******\n",
            "    *********\n",
            "   ***********\n",
            "  *************\n",
            " ***************\n",
            "       ***\n",
            "       ***\n",
            "       ***\n",
            "       ***\n",
            "       ***\n"
          ]
        }
      ],
      "source": [
        "height=int(input(\"請輸入高度(必須要大於7以上的整數):\"))\n",
        "def triangle(height):\n",
        "   star=1\n",
        "   for a in range(height):\n",
        "    print(\" \" * (height-a)+ \"*\" * star)\n",
        "    star+=2\n",
        "triangle(height)\n",
        "for b in range(5):\n",
        "    print(\" \" * (height-1)+\"*\" *3)"
      ]
    },
    {
      "cell_type": "code",
      "source": [
        "def BMI(height,weight):\n",
        "  result = weight/(((height)/100)**2)\n",
        "  return result\n",
        "a= int(input('身高(cm)'))\n",
        "b= int(input('體重(kg)'))\n",
        "c= BMI(a,b)\n",
        "if c<18.5:\n",
        "  print('BMI:', (c))\n",
        "  print('體重過輕')\n",
        "elif 18.5<=c<24:\n",
        "  print('BMI:', (c))\n",
        "  print('體位適中')\n",
        "elif 24<=c<27:\n",
        "  print('BMI:', (c))\n",
        "  print('體位過重')\n",
        "else:\n",
        "  print('BMI:', (c))\n",
        "  print('體位肥胖')"
      ],
      "metadata": {
        "id": "kUd_BHPfqfEe",
        "colab": {
          "base_uri": "https://localhost:8080/"
        },
        "outputId": "53ec3841-913a-44c5-9428-4b43b3474da6"
      },
      "execution_count": 4,
      "outputs": [
        {
          "output_type": "stream",
          "name": "stdout",
          "text": [
            "身高(cm)174\n",
            "體重(kg)60\n",
            "BMI: 19.817677368212443\n",
            "體位適中\n"
          ]
        }
      ]
    }
  ]
}