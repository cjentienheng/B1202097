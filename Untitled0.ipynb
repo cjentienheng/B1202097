{
  "nbformat": 4,
  "nbformat_minor": 0,
  "metadata": {
    "colab": {
      "provenance": []
    },
    "kernelspec": {
      "name": "python3",
      "display_name": "Python 3"
    },
    "language_info": {
      "name": "python"
    }
  },
  "cells": [
    {
      "cell_type": "code",
      "execution_count": 17,
      "metadata": {
        "colab": {
          "base_uri": "https://localhost:8080/"
        },
        "id": "P75Tmo_1Bez9",
        "outputId": "128b06ac-c01e-41a4-c672-4d287b062e4e"
      },
      "outputs": [
        {
          "output_type": "stream",
          "name": "stdout",
          "text": [
            "請輸入五位同學的成績：99 87 99 87 10\n",
            "91.0\n"
          ]
        }
      ],
      "source": [
        "a= input(('請輸入五位同學的成績：')).split()\n",
        "a=[int(i)for i in a ]\n",
        "a.sort ()\n",
        "del a[0]\n",
        "del a[(-1)]\n",
        "b= sum(int(n) for n in a)\n",
        "print(b/len(a))\n",
        "\n"
      ]
    },
    {
      "cell_type": "code",
      "source": [
        "\n",
        "a = eval(input())\n",
        "b = eval(input())\n",
        "\n",
        "o = input()\n",
        "\n",
        "if(o==\"+\"):\n",
        "    ans=a+b\n",
        "elif(o==\"-\"):\n",
        "    ans=a-b\n",
        "elif(o==\"*\"):\n",
        "    ans=a*b\n",
        "elif(o==\"/\"):\n",
        "    ans=a/b\n",
        "elif(o==\"//\"):\n",
        "    ans=a//b\n",
        "elif(o==\"%\"):\n",
        "    ans=a%b\n",
        "\n",
        "\n",
        "print(ans)"
      ],
      "metadata": {
        "colab": {
          "base_uri": "https://localhost:8080/"
        },
        "id": "HJUIeDsDHrx-",
        "outputId": "3f2b068e-9223-4b93-f1a5-bc21c4f2283b"
      },
      "execution_count": 2,
      "outputs": [
        {
          "output_type": "stream",
          "name": "stdout",
          "text": [
            "2000\n",
            "2\n",
            "+\n",
            "2002\n"
          ]
        }
      ]
    },
    {
      "cell_type": "code",
      "source": [
        "a= int (input('請輸入年份'))\n",
        "if a<=1582:\n",
        "  if a%4==0:\n",
        "    print('閏年')\n",
        "  else:\n",
        "        print('平年')\n",
        "elif a>1582:\n",
        "  if a%100==0 and a%400!=0:\n",
        "   print('平年')\n",
        "  elif a%4==0 or a%400==0:\n",
        "        print('閏年')\n",
        "  else:\n",
        "        print('平年')\n"
      ],
      "metadata": {
        "colab": {
          "base_uri": "https://localhost:8080/"
        },
        "id": "Co5lSFmyI6n6",
        "outputId": "d321f6b3-500b-4e40-aa80-5c73c225a4e7"
      },
      "execution_count": 12,
      "outputs": [
        {
          "output_type": "stream",
          "name": "stdout",
          "text": [
            "請輸入年份1994\n",
            "平年\n"
          ]
        }
      ]
    }
  ]
}