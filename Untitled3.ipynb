{
  "nbformat": 4,
  "nbformat_minor": 0,
  "metadata": {
    "colab": {
      "provenance": []
    },
    "kernelspec": {
      "name": "python3",
      "display_name": "Python 3"
    },
    "language_info": {
      "name": "python"
    }
  },
  "cells": [
    {
      "cell_type": "code",
      "execution_count": null,
      "metadata": {
        "colab": {
          "base_uri": "https://localhost:8080/"
        },
        "id": "tTjW3hqAaLXz",
        "outputId": "c8393926-ad37-4f9c-be69-bf4ba2540632"
      },
      "outputs": [
        {
          "output_type": "stream",
          "name": "stdout",
          "text": [
            "         *\n",
            "        ***\n",
            "       *****\n",
            "      *******\n",
            "     *********\n",
            "    ***********\n",
            "   *************\n",
            "  ***************\n",
            " *****************\n",
            "        ***\n",
            "        ***\n",
            "        ***\n",
            "        ***\n",
            "        ***\n"
          ]
        }
      ],
      "source": [
        "height=9\n",
        "star=1\n",
        "for a in range(height):\n",
        "    print(\" \" * (height-a)+ \"*\" * star)\n",
        "    star+=2\n",
        "for b in range(5):\n",
        "      print(\" \" *8+\"*\" *3)\n",
        "\n"
      ]
    },
    {
      "cell_type": "code",
      "source": [
        "import random\n",
        "answer=random.sample(range(1,10), 4)\n",
        "a=b=n=0\n",
        "num=0\n",
        "while a!=4:\n",
        "    trial=list(input(\"請輸入四個數字而且不互相重複:\"))\n",
        "    if len(trial)>4:\n",
        "       trial=input(\"如果輸入字數過多，請輸入四個:\")\n",
        "    elif len (trial)<4:\n",
        "       trial=input(\"如果輸入字數過少，請輸入四個:\")\n",
        "    num+=1\n",
        "    a=b=n=0\n",
        "    for i in trial :\n",
        "       if int(trial[n])==answer[n]:\n",
        "          a+=1\n",
        "       elif int(i) in answer:\n",
        "          b+=1\n",
        "       n+=1\n",
        "    for i in range(4):\n",
        "       print(trial[i],end=\"\")\n",
        "    print(\":\",f'{a}A{b}B')\n",
        "if a==4:\n",
        "       print(f'恭喜答對了！你總共猜了{num}次')\n",
        "\n",
        "\n",
        "\n",
        "\n"
      ],
      "metadata": {
        "colab": {
          "base_uri": "https://localhost:8080/"
        },
        "id": "ql7sncmVkZs8",
        "outputId": "65cf549d-54cd-4903-c94c-7aa5980020a3"
      },
      "execution_count": null,
      "outputs": [
        {
          "output_type": "stream",
          "name": "stdout",
          "text": [
            "請輸入四個數字而且不互相重複:12345\n",
            "如果輸入字數過多，請輸入四個:1234\n",
            "1234: 1A1B\n",
            "請輸入四個數字而且不互相重複:2345\n",
            "2345: 0A1B\n",
            "請輸入四個數字而且不互相重複:1673\n",
            "1673: 1A1B\n",
            "請輸入四個數字而且不互相重複:1893\n",
            "1893: 1A1B\n",
            "請輸入四個數字而且不互相重複:7893\n",
            "7893: 0A2B\n",
            "請輸入四個數字而且不互相重複:1473\n",
            "1473: 2A1B\n",
            "請輸入四個數字而且不互相重複:1478\n",
            "1478: 2A2B\n",
            "請輸入四個數字而且不互相重複:1487\n",
            "1487: 4A0B\n",
            "恭喜答對了！你總共猜了8次\n"
          ]
        }
      ]
    }
  ]
}